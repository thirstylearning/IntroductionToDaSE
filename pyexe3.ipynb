{
 "cells": [
  {
   "cell_type": "code",
   "execution_count": 9,
   "outputs": [
    {
     "name": "stdout",
     "output_type": "stream",
     "text": [
      "1010.101"
     ]
    }
   ],
   "source": [
    "#question1\n",
    "def conDecTobin(x):\n",
    "    bin = x - int(x)\n",
    "    dec = int(x)\n",
    "    if dec == 0:\n",
    "        print(\"0\", end=\"\")\n",
    "    else:\n",
    "        while dec > 0:\n",
    "            if dec % 2 == 0:\n",
    "                print(\"1\", end=\"\")\n",
    "            else:\n",
    "                print(\"0\", end=\"\")\n",
    "            dec = int(dec / 2)\n",
    "    print(\".\", end=\"\")\n",
    "    while bin > 0:\n",
    "        if bin * 2 >= 1:\n",
    "            print(\"1\", end=\"\")\n",
    "        else:\n",
    "            print(\"0\", end=\"\")\n",
    "        bin *= 2\n",
    "        bin -= int(bin)\n",
    "num = float(input(\"请输入一个小数\"))\n",
    "num\n",
    "conDecTobin(num)"
   ],
   "metadata": {
    "collapsed": false
   }
  },
  {
   "cell_type": "code",
   "execution_count": 30,
   "outputs": [
    {
     "name": "stdout",
     "output_type": "stream",
     "text": [
      "12.93890857093318\n"
     ]
    }
   ],
   "source": [
    "#question2\n",
    "import random\n",
    "print(random.uniform(10, 20))"
   ],
   "metadata": {
    "collapsed": false
   }
  },
  {
   "cell_type": "code",
   "execution_count": 16,
   "outputs": [
    {
     "name": "stdout",
     "output_type": "stream",
     "text": [
      "身份证号码有效\n"
     ]
    }
   ],
   "source": [
    "#question3\n",
    "import re\n",
    "def is_valid_id(id_number):\n",
    "    pattern = r'^\\d{6}\\d{8}\\d{3}[\\dXx]$'\n",
    "    if bool(re.match(pattern, id_number)):\n",
    "        print(\"身份证号码有效\")\n",
    "    else:\n",
    "        print(\"身份证号码无效\")\n",
    "identity_card = input(\"请输入有效身份证号\")\n",
    "is_valid_id(identity_card)"
   ],
   "metadata": {
    "collapsed": false
   }
  },
  {
   "cell_type": "code",
   "execution_count": 31,
   "outputs": [],
   "source": [
    "#question4\n",
    "class Node:\n",
    "    def __init__(self, entry, next_node=None):\n",
    "        self.entry = entry\n",
    "        self.next = next_node\n",
    "\n",
    "\n",
    "class LinkedList:\n",
    "    def __init__(self):\n",
    "        self.head = None\n",
    "        self.tail = None\n",
    "        self.size = 0\n",
    "\n",
    "    def add_node(self, element):\n",
    "        new_node = Node(element)\n",
    "        if self.head is None:\n",
    "            self.head = new_node\n",
    "            self.tail = new_node\n",
    "        else:\n",
    "            self.tail.next = new_node\n",
    "            self.tail = new_node\n",
    "        self.size += 1\n",
    "\n",
    "    def del_node(self, num):\n",
    "        if self.size == 0:\n",
    "            return Node\n",
    "        elif self.size == 1 and self.tail.entry == num:\n",
    "            self.head = None\n",
    "            self.tail = None\n",
    "            self.size = 0\n",
    "        else:\n",
    "            prev = None\n",
    "            curr = self.head\n",
    "            if curr.entry == num:\n",
    "                self.head = curr.next\n",
    "            while curr is not None:\n",
    "                if curr.entry == num:\n",
    "                    prev.next = curr.next\n",
    "                    self.size -= 1\n",
    "                    if curr == self.tail:\n",
    "                        self.tail = prev\n",
    "                prev = curr\n",
    "                curr = curr.next\n",
    "\n",
    "    def change_node(self, prevnum, currnum):\n",
    "        curr = self.head\n",
    "        while curr is not None:\n",
    "            if curr.entry == prevnum:\n",
    "                curr.entry = currnum\n",
    "            curr = curr.next\n",
    "\n",
    "    def search_node(self, index):\n",
    "        curr = self.head\n",
    "        while index > 0:\n",
    "            index -= 1\n",
    "            curr = curr.next\n",
    "        return curr.entry"
   ],
   "metadata": {
    "collapsed": false
   }
  },
  {
   "cell_type": "code",
   "execution_count": 32,
   "outputs": [
    {
     "name": "stdout",
     "output_type": "stream",
     "text": [
      "2\n",
      "4\n",
      "6\n",
      "8\n",
      "10\n",
      "12\n",
      "14\n",
      "16\n",
      "18\n",
      "20\n",
      "22\n",
      "24\n",
      "26\n",
      "28\n",
      "30\n",
      "32\n",
      "34\n",
      "36\n",
      "38\n",
      "40\n",
      "42\n",
      "44\n",
      "46\n",
      "48\n",
      "50\n",
      "52\n",
      "54\n",
      "56\n",
      "58\n",
      "60\n",
      "62\n",
      "64\n",
      "66\n",
      "68\n",
      "70\n",
      "72\n",
      "74\n",
      "76\n",
      "78\n",
      "80\n",
      "82\n",
      "84\n",
      "86\n",
      "88\n",
      "90\n",
      "92\n",
      "94\n",
      "96\n",
      "98\n",
      "100\n"
     ]
    }
   ],
   "source": [
    "#question5\n",
    "for i in range(2, 101, 2):\n",
    "    print(i)"
   ],
   "metadata": {
    "collapsed": false
   }
  },
  {
   "cell_type": "code",
   "execution_count": 35,
   "outputs": [
    {
     "name": "stdout",
     "output_type": "stream",
     "text": [
      "优秀\n"
     ]
    }
   ],
   "source": [
    "#question6\n",
    "def grade(num):\n",
    "    if num < 60:\n",
    "        print(\"不合格\")\n",
    "    else:\n",
    "        if num <= 74:\n",
    "            print(\"合格\")\n",
    "        elif num <= 89:\n",
    "            print(\"良好\")\n",
    "        else:\n",
    "            print(\"优秀\")\n",
    "grade_num = int(input(\"请输入成绩\"))\n",
    "grade(grade_num)"
   ],
   "metadata": {
    "collapsed": false
   }
  },
  {
   "cell_type": "code",
   "execution_count": 3,
   "outputs": [
    {
     "name": "stdout",
     "output_type": "stream",
     "text": [
      "公约数是 5\n"
     ]
    }
   ],
   "source": [
    "#question7\n",
    "def gcd(num1, num2):\n",
    "    start = min(num1, num2)\n",
    "    i = start\n",
    "    for i in range(start, 0, -1):\n",
    "        if num1 % i == 0 and num2 % i ==0:\n",
    "            break\n",
    "    print(\"公约数是\",i)\n",
    "num1, num2 = input(\"请输入两个数\").split()\n",
    "num1 = int(num1)\n",
    "num2 = int(num2)\n",
    "gcd(num1, num2)"
   ],
   "metadata": {
    "collapsed": false
   }
  },
  {
   "cell_type": "code",
   "execution_count": 14,
   "outputs": [
    {
     "name": "stdout",
     "output_type": "stream",
     "text": [
      "the length of list is 100\n",
      "merge_sort： 0.0\n",
      "select_sort： 0.031307220458984375\n",
      "####################\n",
      "the length of list is 1000\n",
      "merge_sort： 0.016184091567993164\n",
      "select_sort： 1.30421781539917\n",
      "####################\n",
      "the length of list is 10000\n",
      "merge_sort： 0.21961259841918945\n",
      "select_sort： 279.6672251224518\n"
     ]
    }
   ],
   "source": [
    "#question8\n",
    "import time\n",
    "import random\n",
    "def merge_sort(num_list):\n",
    "    size = 1\n",
    "    while size < len(num_list):\n",
    "        left = 0\n",
    "        while left + size < len(num_list):\n",
    "            mid = left + size\n",
    "            right = min((left + 2 * size - 1), (len(num_list) - 1))\n",
    "            merge(num_list, left, mid, right)\n",
    "            left += 2 * size\n",
    "        size *= 2\n",
    "    return num_list\n",
    "\n",
    "def merge(num_list, left, mid, right):\n",
    "    i = left\n",
    "    j = mid + 1\n",
    "    k = 0\n",
    "    temp = [0] * (right - left + 1)\n",
    "    while i <= mid and j <= right:\n",
    "        if num_list[i] <= num_list[j]:\n",
    "            temp[k] = num_list[i]\n",
    "            i += 1\n",
    "        else:\n",
    "            temp[k] = num_list[j]\n",
    "            j += 1\n",
    "        k += 1\n",
    "    while i <= mid:\n",
    "        temp[k] = num_list[i]\n",
    "        i += 1\n",
    "        k += 1\n",
    "    while j <= right:\n",
    "        temp[k] = num_list[j]\n",
    "        j += 1\n",
    "        k += 1\n",
    "    for k in range(len(temp)):\n",
    "        num_list[left + k] = temp[k]\n",
    "\n",
    "def select_sort(num_list):\n",
    "    for i in range(len(num_list)):\n",
    "        min_index = i\n",
    "        for j in range(i + 1, len(num_list)):\n",
    "            if num_list[j] < num_list[min_index]:\n",
    "                min_index = j\n",
    "        num_list[i], num_list[min_index] = num_list[min_index], num_list[i]\n",
    "    return num_list\n",
    "\n",
    "def create_list(len):\n",
    "    list = [random.uniform(0, 10000) for i in range(len)]\n",
    "    return list\n",
    "\n",
    "list1 = create_list(1000)\n",
    "list2 = create_list(10000)\n",
    "list3 = create_list(100000)\n",
    "\n",
    "print(\"the length of list is 1000\")\n",
    "start_time = time.time()\n",
    "merge_sort(list1)\n",
    "end_time = time.time()\n",
    "calculate_time = end_time - start_time\n",
    "print(\"merge_sort：\", calculate_time, \"s\")\n",
    "start_time = time.time()\n",
    "select_sort(list1)\n",
    "end_time = time.time()\n",
    "calculate_time = end_time - start_time\n",
    "print(\"select_sort：\", calculate_time)\n",
    "print(\"#\" * 20)\n",
    "\n",
    "print(\"the length of list is 10000\")\n",
    "start_time = time.time()\n",
    "merge_sort(list2)\n",
    "end_time = time.time()\n",
    "calculate_time = end_time - start_time\n",
    "print(\"merge_sort：\", calculate_time)\n",
    "start_time = time.time()\n",
    "select_sort(list2)\n",
    "end_time = time.time()\n",
    "calculate_time = end_time - start_time\n",
    "print(\"select_sort：\", calculate_time)\n",
    "print(\"#\" * 20)\n",
    "\n",
    "print(\"the length of list is 100000\")\n",
    "start_time = time.time()\n",
    "merge_sort(list3)\n",
    "end_time = time.time()\n",
    "calculate_time = end_time - start_time\n",
    "print(\"merge_sort：\", calculate_time)\n",
    "start_time = time.time()\n",
    "select_sort(list3)\n",
    "end_time = time.time()\n",
    "calculate_time = end_time - start_time\n",
    "print(\"select_sort：\", calculate_time)"
   ],
   "metadata": {
    "collapsed": false
   }
  },
  {
   "cell_type": "code",
   "execution_count": 29,
   "outputs": [
    {
     "name": "stdout",
     "output_type": "stream",
     "text": [
      "[24, 12, 8, 6]\n"
     ]
    }
   ],
   "source": [
    "#question9\n",
    "def create_new_list(list1):\n",
    "    list2 = []\n",
    "    for i in range(len(list1)):\n",
    "        item = 1\n",
    "        for j in range(i):\n",
    "            item *= list1[j]\n",
    "        for k in range(i + 1, len(list1)):\n",
    "            item *= list1[k]\n",
    "        list2.append(item)\n",
    "    return list2\n",
    "nums = input(\"请输入一列整数：\").split()\n",
    "list = [int(nums[i]) for i in range(len(nums))]\n",
    "new_list = create_new_list(list)\n",
    "print(new_list)"
   ],
   "metadata": {
    "collapsed": false
   }
  }
 ],
 "metadata": {
  "kernelspec": {
   "display_name": "Python 3",
   "language": "python",
   "name": "python3"
  },
  "language_info": {
   "codemirror_mode": {
    "name": "ipython",
    "version": 2
   },
   "file_extension": ".py",
   "mimetype": "text/x-python",
   "name": "python",
   "nbconvert_exporter": "python",
   "pygments_lexer": "ipython2",
   "version": "2.7.6"
  }
 },
 "nbformat": 4,
 "nbformat_minor": 0
}
