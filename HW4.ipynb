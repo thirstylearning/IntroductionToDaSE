{
 "cells": [
  {
   "cell_type": "code",
   "execution_count": 1,
   "metadata": {},
   "outputs": [
    {
     "name": "stdout",
     "output_type": "stream",
     "text": [
      "17 is a prime\n",
      "18 is not a prime\n"
     ]
    }
   ],
   "source": [
    "#question1\n",
    "def testPrime(num):\n",
    "    flag = 1\n",
    "    for i in range(2, num // 2 + 1):                   \n",
    "        if num % i == 0:\n",
    "            flag = -1\n",
    "    if flag == 1:\n",
    "        print(f\"{num} is a prime\")\n",
    "    else:\n",
    "        print(f\"{num} is not a prime\")\n",
    "#example\n",
    "num1 = 17\n",
    "num2 = 18\n",
    "testPrime(num1)\n",
    "testPrime(num2)"
   ]
  },
  {
   "cell_type": "code",
   "execution_count": 5,
   "metadata": {},
   "outputs": [
    {
     "name": "stdout",
     "output_type": "stream",
     "text": [
      "the length of list is 10000\n",
      "merge_sort: 0.030297517776489258s\n",
      "select_sort: 1.6446142196655273s\n"
     ]
    }
   ],
   "source": [
    "#question2\n",
    "import time\n",
    "import random\n",
    "def merge_sort(num_list):\n",
    "    size = 1\n",
    "    while size < len(num_list):\n",
    "        left = 0\n",
    "        while left + size < len(num_list):\n",
    "            mid = left + size\n",
    "            right = min((left + 2 * size - 1), (len(num_list) - 1))\n",
    "            merge(num_list, left, mid, right)\n",
    "            left += 2 * size\n",
    "        size *= 2\n",
    "    return num_list\n",
    "\n",
    "def merge(num_list, left, mid, right):\n",
    "    i = left\n",
    "    j = mid + 1\n",
    "    k = 0\n",
    "    temp = [0] * (right - left + 1)\n",
    "    while i <= mid and j <= right:\n",
    "        if num_list[i] <= num_list[j]:\n",
    "            temp[k] = num_list[i]\n",
    "            i += 1\n",
    "        else:\n",
    "            temp[k] = num_list[j]\n",
    "            j += 1\n",
    "        k += 1\n",
    "    while i <= mid:\n",
    "        temp[k] = num_list[i]\n",
    "        i += 1\n",
    "        k += 1\n",
    "    while j <= right:\n",
    "        temp[k] = num_list[j]\n",
    "        j += 1\n",
    "        k += 1\n",
    "    for k in range(len(temp)):\n",
    "        num_list[left + k] = temp[k]\n",
    "\n",
    "def select_sort(num_list):\n",
    "    for i in range(len(num_list)):\n",
    "        min_index = i\n",
    "        for j in range(i + 1, len(num_list)):\n",
    "            if num_list[j] < num_list[min_index]:\n",
    "                min_index = j\n",
    "        num_list[i], num_list[min_index] = num_list[min_index], num_list[i]\n",
    "    return num_list\n",
    "\n",
    "def create_list(len):\n",
    "    list = [random.uniform(0, 10000) for i in range(len)]\n",
    "    return list\n",
    "\n",
    "list1 = create_list(10000)\n",
    "\n",
    "print(f\"the length of list is {len(list1)}\")\n",
    "start_time = time.time()\n",
    "merge_sort(list1)\n",
    "end_time = time.time()\n",
    "calculate_time = end_time - start_time\n",
    "print(f\"merge_sort: {calculate_time}s\")\n",
    "start_time = time.time()\n",
    "select_sort(list1)\n",
    "end_time = time.time()\n",
    "calculate_time = end_time - start_time\n",
    "print(f\"select_sort: {calculate_time}s\")"
   ]
  },
  {
   "cell_type": "code",
   "execution_count": 7,
   "metadata": {},
   "outputs": [
    {
     "name": "stdout",
     "output_type": "stream",
     "text": [
      "before sort:[1, 4, 2, 7, 5]\n",
      "after sort:[1, 2, 4, 5, 7]\n"
     ]
    }
   ],
   "source": [
    "#question3\n",
    "def insertSort(list):\n",
    "    for i in range(1, len(list)):\n",
    "        key = list[i]\n",
    "        j = i - 1\n",
    "        while j >= 0 and list[j] > key:\n",
    "            list[j + 1] = list[j]\n",
    "            j -= 1\n",
    "        list[j + 1] = key\n",
    "    return list\n",
    "#example\n",
    "list = [1, 4, 2, 7, 5]\n",
    "print(f\"before sort:{list}\")\n",
    "list = insertSort(list)\n",
    "print(f\"after sort:{list}\")"
   ]
  },
  {
   "cell_type": "markdown",
   "metadata": {},
   "source": [
    "## 希尔排序\n",
    "\n"
   ]
  },
  {
   "cell_type": "code",
   "execution_count": 8,
   "metadata": {},
   "outputs": [
    {
     "name": "stdout",
     "output_type": "stream",
     "text": [
      "before sort:[2, 8, 4, 9, 1, 5]\n",
      "after sort:[1, 2, 4, 5, 8, 9]\n"
     ]
    }
   ],
   "source": [
    "def shellsort(list):  \n",
    "    n = len(list)  \n",
    "    gap = n // 2  \n",
    "    while gap > 0:  \n",
    "        for i in range(gap, n):  \n",
    "            temp = list[i]  \n",
    "            j = i  \n",
    "            while j >= gap and list[j - gap] > temp:  \n",
    "                list[j] = list[j - gap]  \n",
    "                j -= gap  \n",
    "            list[j] = temp  \n",
    "        gap = gap // 2  \n",
    "    return list\n",
    "#example \n",
    "list = [2, 8, 4, 9, 1, 5]\n",
    "print(f\"before sort:{list}\")\n",
    "list_sorted = shellsort(list)\n",
    "print(f\"after sort:{list_sorted}\")"
   ]
  },
  {
   "cell_type": "markdown",
   "metadata": {},
   "source": [
    "#### 时间复杂度\n",
    "由于该算法的实现是将待排序的数组分成若干个子序列，并对每个子序列进行插入排序，最终合并成有序序列，所以时间复杂度为O(nlgn)\n",
    "#### 空间复杂度\n",
    "在实现过程中，需要采用一个额外数组来存储序列，故空间复杂度为O(n)"
   ]
  }
 ],
 "metadata": {
  "kernelspec": {
   "display_name": "RL_env",
   "language": "python",
   "name": "python3"
  },
  "language_info": {
   "codemirror_mode": {
    "name": "ipython",
    "version": 3
   },
   "file_extension": ".py",
   "mimetype": "text/x-python",
   "name": "python",
   "nbconvert_exporter": "python",
   "pygments_lexer": "ipython3",
   "version": "3.6.5"
  }
 },
 "nbformat": 4,
 "nbformat_minor": 2
}
