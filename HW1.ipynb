{
 "cells": [
  {
   "cell_type": "code",
   "execution_count": 3,
   "metadata": {
    "collapsed": false
   },
   "outputs": [
    {
     "name": "stdout",
     "output_type": "stream",
     "text": [
      "Hello World!\n"
     ]
    }
   ],
   "source": [
    "print(\"Hello World!\")"
   ]
  },
  {
   "cell_type": "code",
   "execution_count": 8,
   "metadata": {
    "collapsed": false
   },
   "outputs": [
    {
     "name": "stdout",
     "output_type": "stream",
     "text": [
      "★★★★★★★★★★★\n",
      "★数据科学与工程导论★\n",
      "★★★★★★★★★★★\n"
     ]
    }
   ],
   "source": [
    "print(chr(0x2605) * 11)\n",
    "print(chr(0x2605)+\"数据科学与工程导论\"+chr(0x2605))\n",
    "print(chr(0x2605) * 11)"
   ]
  },
  {
   "cell_type": "code",
   "execution_count": null,
   "metadata": {
    "collapsed": false
   },
   "outputs": [
    {
     "name": "stdout",
     "output_type": "stream",
     "text": [
      "1\n",
      "2\n",
      "3\n"
     ]
    }
   ],
   "source": [
    "def sortThreeNum(x, y, z):\n",
    "    list = []\n",
    "    list.append(int(x))\n",
    "    list.append(int(y))\n",
    "    list.append(int(z))\n",
    "    list.sort()\n",
    "    for num in list:\n",
    "        print(num)\n",
    "#example\n",
    "x, y, z = 1, 3, 2\n",
    "sortThreeNum(x, y, z)"
   ]
  },
  {
   "cell_type": "code",
   "execution_count": 1,
   "metadata": {
    "collapsed": false
   },
   "outputs": [
    {
     "name": "stdout",
     "output_type": "stream",
     "text": [
      "1\n",
      "2\n",
      "4\n",
      "5\n"
     ]
    }
   ],
   "source": [
    "def sortFourNum(x, y, z, w):\n",
    "    list = []\n",
    "    list.append(int(x))\n",
    "    list.append(int(y))\n",
    "    list.append(int(z))\n",
    "    list.append(int(w))\n",
    "    list.sort()\n",
    "    for num in list:\n",
    "        print(num)\n",
    "#example\n",
    "x, y, z, w = 1, 4, 2, 5\n",
    "sortFourNum(x, y, z, w)"
   ]
  },
  {
   "cell_type": "code",
   "execution_count": 20,
   "metadata": {
    "collapsed": false
   },
   "outputs": [
    {
     "name": "stdout",
     "output_type": "stream",
     "text": [
      "1\n",
      "3\n",
      "5\n",
      "7\n",
      "9\n",
      "11\n",
      "13\n",
      "15\n",
      "17\n",
      "19\n",
      "21\n",
      "23\n",
      "25\n",
      "27\n",
      "29\n",
      "31\n",
      "33\n",
      "35\n",
      "37\n",
      "39\n",
      "41\n",
      "43\n",
      "45\n",
      "47\n",
      "49\n",
      "51\n",
      "53\n",
      "55\n",
      "57\n",
      "59\n",
      "61\n",
      "63\n",
      "65\n",
      "67\n",
      "69\n",
      "71\n",
      "73\n",
      "75\n",
      "77\n",
      "79\n",
      "81\n",
      "83\n",
      "85\n",
      "87\n",
      "89\n",
      "91\n",
      "93\n",
      "95\n",
      "97\n",
      "99\n"
     ]
    }
   ],
   "source": [
    "for i in range(1, 101, 2):\n",
    "    print(i)"
   ]
  },
  {
   "cell_type": "code",
   "execution_count": 2,
   "metadata": {
    "collapsed": false
   },
   "outputs": [
    {
     "name": "stdout",
     "output_type": "stream",
     "text": [
      "5050\n"
     ]
    }
   ],
   "source": [
    "sum = 0\n",
    "for i in range(1, 101):\n",
    "    sum += i\n",
    "print(sum)"
   ]
  },
  {
   "cell_type": "code",
   "execution_count": 9,
   "metadata": {
    "collapsed": false
   },
   "outputs": [
    {
     "name": "stdout",
     "output_type": "stream",
     "text": [
      "5\n",
      "2\n",
      "3\n",
      "1\n"
     ]
    }
   ],
   "source": [
    "def reserveOutList(numList):\n",
    "    for num in numList[::-1]:\n",
    "        print(num)\n",
    "#example\n",
    "list = [1, 3, 2, 5]\n",
    "reserveOutList(list)"
   ]
  },
  {
   "cell_type": "code",
   "execution_count": 10,
   "metadata": {
    "collapsed": false
   },
   "outputs": [
    {
     "name": "stdout",
     "output_type": "stream",
     "text": [
      "5\n",
      "2\n",
      "3\n",
      "1\n"
     ]
    }
   ],
   "source": [
    "def reserveOutList(numList):\n",
    "    count = len(numList)\n",
    "    while count > 0:\n",
    "        print(numList[count - 1])\n",
    "        count -= 1\n",
    "#example\n",
    "list = [1, 3, 2, 5]\n",
    "reserveOutList(list)"
   ]
  },
  {
   "cell_type": "code",
   "execution_count": 11,
   "metadata": {
    "collapsed": false
   },
   "outputs": [
    {
     "name": "stdout",
     "output_type": "stream",
     "text": [
      "包含\n",
      "不包含\n"
     ]
    }
   ],
   "source": [
    "def includeStr(str_input):\n",
    "    flag = -1\n",
    "    for i in range(0, len(str_input) - 1, 1):\n",
    "        if str_input[i] == str_input[i + 1]:\n",
    "            flag = 1\n",
    "            print(\"包含\")\n",
    "            break\n",
    "    if flag is -1:\n",
    "        print(\"不包含\")\n",
    "#example\n",
    "str1 = \"abcccda\"\n",
    "includeStr(str1)\n",
    "str2 = \"asdfsdf\"\n",
    "includeStr(str2)"
   ]
  },
  {
   "cell_type": "code",
   "execution_count": 13,
   "metadata": {
    "collapsed": false
   },
   "outputs": [
    {
     "name": "stdout",
     "output_type": "stream",
     "text": [
      "Dataisthepower\n"
     ]
    }
   ],
   "source": [
    "def deleteSpace(str_input):\n",
    "    str_list = str_input.split()\n",
    "    new_str = \"\"\n",
    "    for str in str_list:\n",
    "        new_str += str\n",
    "    print(new_str)\n",
    "#example\n",
    "str_input = \"Data is the power\"\n",
    "deleteSpace(str_input)"
   ]
  },
  {
   "cell_type": "code",
   "execution_count": 14,
   "metadata": {
    "collapsed": false
   },
   "outputs": [
    {
     "name": "stdout",
     "output_type": "stream",
     "text": [
      "2\n",
      "该整数不存在整数三次方根\n"
     ]
    }
   ],
   "source": [
    "def findCubeRoot(num):\n",
    "    flag = 1\n",
    "    for i in range(0, num + 1):\n",
    "        if i * i * i == num:\n",
    "            print(i)\n",
    "            flag = 0\n",
    "            break\n",
    "    if flag == 1:\n",
    "        print(\"该整数不存在整数三次方根\")\n",
    "#example\n",
    "num1 = 8\n",
    "findCubeRoot(num1)\n",
    "num2 = 7\n",
    "findCubeRoot(num2)"
   ]
  },
  {
   "cell_type": "code",
   "execution_count": 16,
   "metadata": {
    "collapsed": false
   },
   "outputs": [
    {
     "name": "stdout",
     "output_type": "stream",
     "text": [
      "4的阶乘是24\n",
      "5的阶乘是120\n"
     ]
    }
   ],
   "source": [
    "def calFactorial(num):\n",
    "    sum = 1\n",
    "    for i in range(1, num + 1):\n",
    "        sum *= i\n",
    "    print(f\"{num}的阶乘是{sum}\")\n",
    "#example\n",
    "num1 = 4\n",
    "calFactorial(num1)\n",
    "num2 = 5\n",
    "calFactorial(num2)"
   ]
  }
 ],
 "metadata": {
  "kernelspec": {
   "display_name": "Python 3",
   "language": "python",
   "name": "python3"
  },
  "language_info": {
   "codemirror_mode": {
    "name": "ipython",
    "version": 3
   },
   "file_extension": ".py",
   "mimetype": "text/x-python",
   "name": "python",
   "nbconvert_exporter": "python",
   "pygments_lexer": "ipython3",
   "version": "3.6.5"
  }
 },
 "nbformat": 4,
 "nbformat_minor": 0
}
