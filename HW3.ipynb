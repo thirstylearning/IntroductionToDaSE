{
 "cells": [
  {
   "cell_type": "code",
   "execution_count": 8,
   "metadata": {
    "collapsed": false
   },
   "outputs": [
    {
     "name": "stdout",
     "output_type": "stream",
     "text": [
      "10.4的二进制表示是:1010.0110011001100110011001100110011001100110011001101\n",
      "5.2的二进制表示是:101.00110011001100110011001100110011001100110011001101\n"
     ]
    }
   ],
   "source": [
    "#question1\n",
    "def conDecTobin(x):\n",
    "    print(f\"{x}的二进制表示是:\", end=\"\")\n",
    "    bin_fraction = x - int(x)\n",
    "    dec = int(x)\n",
    "    if dec == 0:\n",
    "        print(\"0\", end=\"\")\n",
    "    else:\n",
    "        binary_integer = \"\"\n",
    "        while dec > 0:\n",
    "            binary_integer = str(dec % 2) + binary_integer\n",
    "            dec = int(dec / 2)\n",
    "        print(binary_integer, end=\"\")\n",
    "    print(\".\", end=\"\")\n",
    "    binary_fraction = \"\"\n",
    "    while bin_fraction > 0:\n",
    "        bin_fraction *= 2\n",
    "        if bin_fraction >= 1:\n",
    "            binary_fraction += \"1\"\n",
    "            bin_fraction -= 1\n",
    "        else:\n",
    "            binary_fraction += \"0\"\n",
    "    print(binary_fraction)\n",
    "#example\n",
    "num1 = 10.4\n",
    "conDecTobin(num1)\n",
    "num2 = 5.2\n",
    "conDecTobin(num2)"
   ]
  },
  {
   "cell_type": "code",
   "execution_count": 30,
   "metadata": {
    "collapsed": false
   },
   "outputs": [
    {
     "name": "stdout",
     "output_type": "stream",
     "text": [
      "12.93890857093318\n"
     ]
    }
   ],
   "source": [
    "#question2\n",
    "import random\n",
    "print(random.uniform(10, 20))"
   ]
  },
  {
   "cell_type": "code",
   "execution_count": 19,
   "metadata": {
    "collapsed": false
   },
   "outputs": [
    {
     "name": "stdout",
     "output_type": "stream",
     "text": [
      "身份证号440308199901011234 是否合法:True\n",
      "身份证号44030819990102123X 是否合法:True\n",
      "身份证号123456788012345678 是否合法:False\n"
     ]
    }
   ],
   "source": [
    "#question3\n",
    "import re\n",
    "def validate_id_card(id_card):\n",
    "    pattern = r'^[1-9]\\d{5}(19|20)\\d{2}(0[1-9]|1[0-2])(0[1-9]|[1-2]\\d|3[0-1])\\d{3}(\\d|X|x)$'\n",
    "    if re.match(pattern, id_card):\n",
    "        return True\n",
    "    else:\n",
    "        return False\n",
    "#example\n",
    "id_card1 = \"440308199901011234\"\n",
    "id_card2 = \"44030819990102123X\"\n",
    "id_card3 = \"123456788012345678\"\n",
    "\n",
    "print(f\"身份证号{id_card1} 是否合法:{validate_id_card(id_card1)}\")\n",
    "print(f\"身份证号{id_card2} 是否合法:{validate_id_card(id_card2)}\")\n",
    "print(f\"身份证号{id_card3} 是否合法:{validate_id_card(id_card3)}\")"
   ]
  },
  {
   "cell_type": "code",
   "execution_count": 9,
   "metadata": {
    "collapsed": false
   },
   "outputs": [
    {
     "name": "stdout",
     "output_type": "stream",
     "text": [
      "1 -> 2 -> 3 -> None\n",
      "1 -> 5 -> 3 -> None\n",
      "Node at index 1: 5\n",
      "1 -> 5 -> None\n"
     ]
    }
   ],
   "source": [
    "#链表的代码\n",
    "class Node:\n",
    "    def __init__(self, entry, next_node=None):\n",
    "        self.entry = entry\n",
    "        self.next = next_node\n",
    "\n",
    "class LinkedList:\n",
    "    def __init__(self):\n",
    "        self.head = None\n",
    "        self.tail = None\n",
    "        self.size = 0\n",
    "\n",
    "    def add_node(self, element):\n",
    "        new_node = Node(element)\n",
    "        if self.head is None:\n",
    "            self.head = new_node\n",
    "            self.tail = new_node\n",
    "        else:\n",
    "            self.tail.next = new_node\n",
    "            self.tail = new_node\n",
    "        self.size += 1\n",
    "\n",
    "    def del_node(self, num):\n",
    "        if self.size == 0:\n",
    "            return\n",
    "        prev = None\n",
    "        curr = self.head\n",
    "        while curr is not None:\n",
    "            if curr.entry == num:\n",
    "                if prev is None:\n",
    "                    self.head = curr.next\n",
    "                else:\n",
    "                    prev.next = curr.next\n",
    "                    if curr == self.tail:\n",
    "                        self.tail = prev\n",
    "                self.size -= 1\n",
    "                break\n",
    "            prev = curr\n",
    "            curr = curr.next\n",
    "\n",
    "    def change_node(self, prevnum, currnum):\n",
    "        curr = self.head\n",
    "        while curr is not None:\n",
    "            if curr.entry == prevnum:\n",
    "                curr.entry = currnum\n",
    "                break\n",
    "            curr = curr.next\n",
    "\n",
    "    def search_node(self, index):\n",
    "        if index < 0 or index >= self.size:\n",
    "            return None\n",
    "        curr = self.head\n",
    "        while index > 0:\n",
    "            index -= 1\n",
    "            curr = curr.next\n",
    "        return curr.entry\n",
    "    \n",
    "    def display_list(self):\n",
    "        curr = self.head\n",
    "        while curr is not None:\n",
    "            print(curr.entry, end=\" -> \")\n",
    "            curr = curr.next\n",
    "        print(\"None\")\n",
    "    \n",
    "#对链表加以操作\n",
    "my_list = LinkedList()\n",
    "my_list.add_node(1)\n",
    "my_list.add_node(2)\n",
    "my_list.add_node(3)\n",
    "my_list.display_list()\n",
    "my_list.change_node(2, 5)\n",
    "my_list.display_list()\n",
    "index = 1\n",
    "result = my_list.search_node(index)\n",
    "if result is not None:\n",
    "    print(f\"Node at index {index}: {result}\")\n",
    "else:\n",
    "    print(f\"Node at index {index} not found\")\n",
    "num_to_delete = 3\n",
    "my_list.del_node(num_to_delete)\n",
    "my_list.display_list()"
   ]
  },
  {
   "cell_type": "code",
   "execution_count": 32,
   "metadata": {
    "collapsed": false
   },
   "outputs": [
    {
     "name": "stdout",
     "output_type": "stream",
     "text": [
      "2\n",
      "4\n",
      "6\n",
      "8\n",
      "10\n",
      "12\n",
      "14\n",
      "16\n",
      "18\n",
      "20\n",
      "22\n",
      "24\n",
      "26\n",
      "28\n",
      "30\n",
      "32\n",
      "34\n",
      "36\n",
      "38\n",
      "40\n",
      "42\n",
      "44\n",
      "46\n",
      "48\n",
      "50\n",
      "52\n",
      "54\n",
      "56\n",
      "58\n",
      "60\n",
      "62\n",
      "64\n",
      "66\n",
      "68\n",
      "70\n",
      "72\n",
      "74\n",
      "76\n",
      "78\n",
      "80\n",
      "82\n",
      "84\n",
      "86\n",
      "88\n",
      "90\n",
      "92\n",
      "94\n",
      "96\n",
      "98\n",
      "100\n"
     ]
    }
   ],
   "source": [
    "#question5\n",
    "for i in range(2, 101, 2):\n",
    "    print(i)"
   ]
  },
  {
   "cell_type": "code",
   "execution_count": 11,
   "metadata": {
    "collapsed": false
   },
   "outputs": [
    {
     "name": "stdout",
     "output_type": "stream",
     "text": [
      "90分的等级是优秀\n",
      "78分的等级是良好\n"
     ]
    }
   ],
   "source": [
    "#question6\n",
    "def grade(num):\n",
    "    print(f\"{num}分的等级是\", end=\"\")\n",
    "    if num < 60:\n",
    "        print(\"不合格\")\n",
    "    else:\n",
    "        if num <= 74:\n",
    "            print(\"合格\")\n",
    "        elif num <= 89:\n",
    "            print(\"良好\")\n",
    "        else:\n",
    "            print(\"优秀\")\n",
    "#example\n",
    "num1 = 90\n",
    "grade(num1)\n",
    "num2 = 78\n",
    "grade(num2)"
   ]
  },
  {
   "cell_type": "code",
   "execution_count": 15,
   "metadata": {
    "collapsed": false
   },
   "outputs": [
    {
     "name": "stdout",
     "output_type": "stream",
     "text": [
      "50和85的最大公约数是5\n",
      "12和18的最大公约数是6\n"
     ]
    }
   ],
   "source": [
    "#question7\n",
    "def gcd(num1, num2):\n",
    "    start = min(num1, num2)\n",
    "    i = start\n",
    "    for i in range(start, 0, -1):\n",
    "        if num1 % i == 0 and num2 % i == 0:\n",
    "            flag = 1  # 找到最大公约数，设置flag为1\n",
    "            break\n",
    "    print(f\"{num1}和{num2}的最大公约数是{i}\")\n",
    "#example\n",
    "num1, num2 = 50, 85\n",
    "gcd(num1, num2)\n",
    "num1, num2 = 12, 18\n",
    "gcd(num1, num2)"
   ]
  },
  {
   "cell_type": "code",
   "execution_count": 14,
   "metadata": {
    "collapsed": false
   },
   "outputs": [
    {
     "name": "stdout",
     "output_type": "stream",
     "text": [
      "the length of list is 100\n",
      "merge_sort： 0.0\n",
      "select_sort： 0.031307220458984375\n",
      "####################\n",
      "the length of list is 1000\n",
      "merge_sort： 0.016184091567993164\n",
      "select_sort： 1.30421781539917\n",
      "####################\n",
      "the length of list is 10000\n",
      "merge_sort： 0.21961259841918945\n",
      "select_sort： 279.6672251224518\n"
     ]
    }
   ],
   "source": [
    "#question8\n",
    "import time\n",
    "import random\n",
    "def merge_sort(num_list):\n",
    "    size = 1\n",
    "    while size < len(num_list):\n",
    "        left = 0\n",
    "        while left + size < len(num_list):\n",
    "            mid = left + size\n",
    "            right = min((left + 2 * size - 1), (len(num_list) - 1))\n",
    "            merge(num_list, left, mid, right)\n",
    "            left += 2 * size\n",
    "        size *= 2\n",
    "    return num_list\n",
    "\n",
    "def merge(num_list, left, mid, right):\n",
    "    i = left\n",
    "    j = mid + 1\n",
    "    k = 0\n",
    "    temp = [0] * (right - left + 1)\n",
    "    while i <= mid and j <= right:\n",
    "        if num_list[i] <= num_list[j]:\n",
    "            temp[k] = num_list[i]\n",
    "            i += 1\n",
    "        else:\n",
    "            temp[k] = num_list[j]\n",
    "            j += 1\n",
    "        k += 1\n",
    "    while i <= mid:\n",
    "        temp[k] = num_list[i]\n",
    "        i += 1\n",
    "        k += 1\n",
    "    while j <= right:\n",
    "        temp[k] = num_list[j]\n",
    "        j += 1\n",
    "        k += 1\n",
    "    for k in range(len(temp)):\n",
    "        num_list[left + k] = temp[k]\n",
    "\n",
    "def select_sort(num_list):\n",
    "    for i in range(len(num_list)):\n",
    "        min_index = i\n",
    "        for j in range(i + 1, len(num_list)):\n",
    "            if num_list[j] < num_list[min_index]:\n",
    "                min_index = j\n",
    "        num_list[i], num_list[min_index] = num_list[min_index], num_list[i]\n",
    "    return num_list\n",
    "\n",
    "def create_list(len):\n",
    "    list = [random.uniform(0, 10000) for i in range(len)]\n",
    "    return list\n",
    "\n",
    "list1 = create_list(1000)\n",
    "list2 = create_list(10000)\n",
    "list3 = create_list(100000)\n",
    "\n",
    "print(\"the length of list is 1000\")\n",
    "start_time = time.time()\n",
    "merge_sort(list1)\n",
    "end_time = time.time()\n",
    "calculate_time = end_time - start_time\n",
    "print(\"merge_sort：\", calculate_time, \"s\")\n",
    "start_time = time.time()\n",
    "select_sort(list1)\n",
    "end_time = time.time()\n",
    "calculate_time = end_time - start_time\n",
    "print(\"select_sort：\", calculate_time)\n",
    "print(\"#\" * 20)\n",
    "\n",
    "print(\"the length of list is 10000\")\n",
    "start_time = time.time()\n",
    "merge_sort(list2)\n",
    "end_time = time.time()\n",
    "calculate_time = end_time - start_time\n",
    "print(\"merge_sort：\", calculate_time)\n",
    "start_time = time.time()\n",
    "select_sort(list2)\n",
    "end_time = time.time()\n",
    "calculate_time = end_time - start_time\n",
    "print(\"select_sort：\", calculate_time)\n",
    "print(\"#\" * 20)\n",
    "\n",
    "print(\"the length of list is 100000\")\n",
    "start_time = time.time()\n",
    "merge_sort(list3)\n",
    "end_time = time.time()\n",
    "calculate_time = end_time - start_time\n",
    "print(\"merge_sort：\", calculate_time)\n",
    "start_time = time.time()\n",
    "select_sort(list3)\n",
    "end_time = time.time()\n",
    "calculate_time = end_time - start_time\n",
    "print(\"select_sort：\", calculate_time)"
   ]
  },
  {
   "cell_type": "markdown",
   "metadata": {},
   "source": [
    "#### 归并排序和插入排序在不同长度序列下的运行效果\n",
    "由于归并排序的时间复杂度为O(nlgn)，而插入排序的时间复杂度为O(n^2)，所以归并排序的运行时间少于插入排序，有运行时间可以看出，归并排序的运行时间均远小于插入排序，且随数据量的增多，二者的差距不断增大"
   ]
  },
  {
   "cell_type": "code",
   "execution_count": 16,
   "metadata": {
    "collapsed": false
   },
   "outputs": [
    {
     "name": "stdout",
     "output_type": "stream",
     "text": [
      "[1120, 280, 224, 160, 140]\n"
     ]
    }
   ],
   "source": [
    "#question9\n",
    "def create_new_list(list1):\n",
    "    list2 = []\n",
    "    for i in range(len(list1)):\n",
    "        item = 1\n",
    "        for j in range(i):\n",
    "            item *= list1[j]\n",
    "        for k in range(i + 1, len(list1)):\n",
    "            item *= list1[k]\n",
    "        list2.append(item)\n",
    "    return list2\n",
    "#example\n",
    "list = [1, 4, 5, 7, 8]\n",
    "new_list = create_new_list(list)\n",
    "print(new_list)"
   ]
  }
 ],
 "metadata": {
  "kernelspec": {
   "display_name": "Python 3",
   "language": "python",
   "name": "python3"
  },
  "language_info": {
   "codemirror_mode": {
    "name": "ipython",
    "version": 3
   },
   "file_extension": ".py",
   "mimetype": "text/x-python",
   "name": "python",
   "nbconvert_exporter": "python",
   "pygments_lexer": "ipython3",
   "version": "3.6.5"
  }
 },
 "nbformat": 4,
 "nbformat_minor": 0
}
