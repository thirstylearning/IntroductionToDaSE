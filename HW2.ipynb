{
 "cells": [
  {
   "cell_type": "code",
   "execution_count": 3,
   "metadata": {
    "collapsed": false
   },
   "outputs": [
    {
     "name": "stdout",
     "output_type": "stream",
     "text": [
      "最大乘积: 1737308314051321188153737760718651536153003874190659056877100871667078366232891487026153897841099765525840472053348405269454221681971374832586973594416556121106547021236805348582131129375040043397265831014832807736305547123498116251702260708274705682933217067146110522636431100579531602737668533442551900963470357894587\n",
      "正整数列: [3, 3, 3, 3, 3, 3, 3, 3, 3, 3, 3, 3, 3, 3, 3, 3, 3, 3, 3, 3, 3, 3, 3, 3, 3, 3, 3, 3, 3, 3, 3, 3, 3, 3, 3, 3, 3, 3, 3, 3, 3, 3, 3, 3, 3, 3, 3, 3, 3, 3, 3, 3, 3, 3, 3, 3, 3, 3, 3, 3, 3, 3, 3, 3, 3, 3, 3, 3, 3, 3, 3, 3, 3, 3, 3, 3, 3, 3, 3, 3, 3, 3, 3, 3, 3, 3, 3, 3, 3, 3, 3, 3, 3, 3, 3, 3, 3, 3, 3, 3, 3, 3, 3, 3, 3, 3, 3, 3, 3, 3, 3, 3, 3, 3, 3, 3, 3, 3, 3, 3, 3, 3, 3, 3, 3, 3, 3, 3, 3, 3, 3, 3, 3, 3, 3, 3, 3, 3, 3, 3, 3, 3, 3, 3, 3, 3, 3, 3, 3, 3, 3, 3, 3, 3, 3, 3, 3, 3, 3, 3, 3, 3, 3, 3, 3, 3, 3, 3, 3, 3, 3, 3, 3, 3, 3, 3, 3, 3, 3, 3, 3, 3, 3, 3, 3, 3, 3, 3, 3, 3, 3, 3, 3, 3, 3, 3, 3, 3, 3, 3, 3, 3, 3, 3, 3, 3, 3, 3, 3, 3, 3, 3, 3, 3, 3, 3, 3, 3, 3, 3, 3, 3, 3, 3, 3, 3, 3, 3, 3, 3, 3, 3, 3, 3, 3, 3, 3, 3, 3, 3, 3, 3, 3, 3, 3, 3, 3, 3, 3, 3, 3, 3, 3, 3, 3, 3, 3, 3, 3, 3, 3, 3, 3, 3, 3, 3, 3, 3, 3, 3, 3, 3, 3, 3, 3, 3, 3, 3, 3, 3, 3, 3, 3, 3, 3, 3, 3, 3, 3, 3, 3, 3, 3, 3, 3, 3, 3, 3, 3, 3, 3, 3, 3, 3, 3, 3, 3, 3, 3, 3, 3, 3, 3, 3, 3, 3, 3, 3, 3, 3, 3, 3, 3, 3, 3, 3, 3, 3, 3, 3, 3, 3, 3, 3, 3, 3, 3, 3, 3, 3, 3, 3, 3, 3, 3, 3, 3, 3, 3, 3, 3, 3, 3, 3, 3, 3, 3, 3, 3, 3, 3, 3, 3, 3, 3, 3, 3, 3, 3, 3, 3, 3, 3, 3, 3, 3, 3, 3, 3, 3, 3, 3, 3, 3, 3, 3, 3, 3, 3, 3, 3, 3, 3, 3, 3, 3, 3, 3, 3, 3, 3, 3, 3, 3, 3, 3, 3, 3, 3, 3, 3, 3, 3, 3, 3, 3, 3, 3, 3, 3, 3, 3, 3, 3, 3, 3, 3, 3, 3, 3, 3, 3, 3, 3, 3, 3, 3, 3, 3, 3, 3, 3, 3, 3, 3, 3, 3, 3, 3, 3, 3, 3, 3, 3, 3, 3, 3, 3, 3, 3, 3, 3, 3, 3, 3, 3, 3, 3, 3, 3, 3, 3, 3, 3, 3, 3, 3, 3, 3, 3, 3, 3, 3, 3, 3, 3, 3, 3, 3, 3, 3, 3, 3, 3, 3, 3, 3, 3, 3, 3, 3, 3, 3, 3, 3, 3, 3, 3, 3, 3, 3, 3, 3, 3, 3, 3, 3, 3, 3, 3, 3, 3, 3, 3, 3, 3, 3, 3, 3, 3, 3, 3, 3, 3, 3, 3, 3, 3, 3, 3, 3, 3, 3, 3, 3, 3, 3, 3, 3, 3, 3, 3, 3, 3, 3, 3, 3, 3, 3, 3, 3, 3, 3, 3, 3, 3, 3, 3, 3, 3, 3, 3, 3, 3, 3, 3, 3, 3, 3, 3, 3, 3, 3, 3, 3, 3, 3, 3, 3, 3, 3, 3, 3, 3, 3, 3, 3, 3, 3, 3, 3, 3, 3, 3, 3, 3, 3, 3, 3, 3, 3, 3, 3, 3, 3, 3, 3, 3, 3, 3, 3, 3, 3, 3, 3, 3, 3, 3, 3, 3, 3, 3, 3, 3, 3, 3, 3, 3, 3, 3, 3, 3, 3, 3, 3, 3, 3, 3, 3, 3, 3, 3, 3, 3, 3, 3, 3, 3, 3, 3, 3, 3, 3, 3, 3, 3, 3]\n",
      "正整数列大小为: 667\n"
     ]
    }
   ],
   "source": [
    "#question1\n",
    "def integerBreak(num):\n",
    "    dp = [0] * (num + 1)\n",
    "    dp[1] = 1\n",
    "    factors = [[] for i in range(num + 1)]\n",
    "    for i in range(2, num + 1):\n",
    "        for j in range(1, i):\n",
    "            product1 = j * dp[i - j]\n",
    "            product2 = j * (i - j)\n",
    "            if product1 >= product2:\n",
    "                if product1 > dp[i]:\n",
    "                    dp[i] = product1\n",
    "                    factors[i] = factors[i - j] + [j]\n",
    "            else:\n",
    "                if product2 > dp[i]:\n",
    "                    dp[i] = product2\n",
    "                    factors[i] = [j] + [i - j]\n",
    "    return dp[num], factors[num]\n",
    "#example\n",
    "num = 2001\n",
    "max_product, factor_list = integerBreak(num)\n",
    "print(\"最大乘积:\", max_product)\n",
    "print(\"正整数列:\", factor_list)\n",
    "print(\"正整数列大小为:\", len(factor_list))"
   ]
  },
  {
   "cell_type": "markdown",
   "metadata": {},
   "source": [
    "##### （1）当n = 2001时，所求正整数列是什么？\n",
    "由代码中的示例，我们可以知道当 n = 2001 时所求正整数列由 667 个 3 构成\n",
    "##### （2）思路解释\n",
    "看到这道题时，首先由正整数和确定可以想到是一个背包问题，想到可以通过动态规划来解决，我的想法是实现一个对背包的动态规划，同时记录下每种可能情况的正整数列，最后只需要输出和为n的最优正整数列即可<br>\n",
    "思路如下：\n",
    "1. 创建一个长度为 num+1 的列表 dp，来记录最大乘积，并初始化 dp[1] 为 1\n",
    "\n",
    "3. 创建一个长度为 num+1 的二维列表 factors，用于记录每个整数拆分得到最大乘积时的正整数列，并将 factors 中的所有元素初始化为空列表\n",
    "\n",
    "4. 使用两层循环遍历所有情况，并记录每种情况下的最优正整数列，其中核心的状态转移方程为 dp[i] = Max(j * dp[i - j], j * (i - j)) 1 <= j <= i - 1，\n",
    "\n",
    "5. 最后得出的 dp[num] 和 factors[num]即为最优解"
   ]
  },
  {
   "cell_type": "code",
   "execution_count": 19,
   "metadata": {
    "collapsed": false
   },
   "outputs": [
    {
     "name": "stdout",
     "output_type": "stream",
     "text": [
      "数据为: [1.0, 1024.0, 1048576.0, 1073741824.0, 1099511627776.0]\n",
      "下图为对数话之后的增长趋势图\n"
     ]
    },
    {
     "data": {
      "image/png": "[encoded data removed]",
      "text/plain": [
       "<Figure size 432x288 with 1 Axes>"
      ]
     },
     "metadata": {},
     "output_type": "display_data"
    }
   ],
   "source": [
    "#question2\n",
    "import matplotlib.pyplot as plt\n",
    "nums = []\n",
    "for i in range(10, 51, 10):\n",
    "    nums.append(2 ** i / 1024)\n",
    "print(\"数据为:\", nums)\n",
    "print(\"下图为对数化后的增长趋势图:\")\n",
    "plt.bar(range(len(nums)), nums)\n",
    "plt.title('List Data')\n",
    "plt.xlabel('Index')\n",
    "plt.ylabel('Value')\n",
    "plt.yscale('log')  # 使用对数刻度\n",
    "plt.show()"
   ]
  },
  {
   "cell_type": "code",
   "execution_count": 1,
   "metadata": {
    "collapsed": false
   },
   "outputs": [
    {
     "name": "stdout",
     "output_type": "stream",
     "text": [
      "找到解决方案： [(1, 1, 1, 1), (0, 1, 0, 1), (1, 1, 0, 1), (0, 0, 0, 1), (1, 0, 1, 1), (0, 0, 1, 0), (1, 0, 1, 0), (0, 0, 0, 0)]\n",
      "找到解决方案： [(1, 1, 1, 1), (0, 1, 0, 1), (1, 1, 0, 1), (0, 1, 0, 0), (1, 1, 1, 0), (0, 0, 1, 0), (1, 0, 1, 0), (0, 0, 0, 0)]\n"
     ]
    }
   ],
   "source": [
    "#question3\n",
    "def is_valid_state(state):\n",
    "    if (state[1] == state[2] and state[0] != state[1]) or (state[2] == state[3] and state[0] != state[2]):\n",
    "        return False\n",
    "    return True\n",
    "\n",
    "def dfs(state, path, visited):\n",
    "    if state == (0, 0, 0, 0):\n",
    "        # 找到了解决方案\n",
    "        print(\"找到解决方案：\", path)\n",
    "        return\n",
    "\n",
    "    for move in moves:\n",
    "        new_state = tuple(state[i] + move[i] for i in range(4))\n",
    "        if all(0 <= new_state[i] <= 1 for i in range(4)) and is_valid_state(new_state) and new_state not in visited:\n",
    "            visited.add(new_state)\n",
    "            dfs(new_state, path + [new_state], visited)\n",
    "            visited.remove(new_state)\n",
    "\n",
    "# 初始状态：(1, 1, 1, 1) 表示人、狼、羊、菜都在起始岸\n",
    "initial_state = (1, 1, 1, 1)\n",
    "# 移动方式\n",
    "moves = [\n",
    "    (-1, 0, 0, 0),\n",
    "    (-1, -1, 0, 0),\n",
    "    (-1, 0, -1, 0),\n",
    "    (-1, 0, 0, -1),\n",
    "    (1, 0, 0, 0),\n",
    "    (1, 1, 0, 0),\n",
    "    (1, 0, 1, 0),\n",
    "    (1, 0, 0, 1)\n",
    "]\n",
    "\n",
    "visited = set()\n",
    "visited.add(initial_state)\n",
    "\n",
    "dfs(initial_state, [initial_state], visited)"
   ]
  },
  {
   "cell_type": "code",
   "execution_count": 27,
   "metadata": {
    "collapsed": false
   },
   "outputs": [
    {
     "name": "stdout",
     "output_type": "stream",
     "text": [
      "循环次数: 41418\n",
      "2的开根结果为1.4141800000027134\n",
      "循环次数: 16227\n",
      "10的开根结果为3.162270000001063\n"
     ]
    }
   ],
   "source": [
    "#question4\n",
    "def calculate(x):\n",
    "    g = 0\n",
    "    h = 0.00001\n",
    "    dis = 0.0001\n",
    "    for g in range(x + 1):\n",
    "        if g * g <= x < (g + 1) * (g + 1):\n",
    "            break\n",
    "    time = 0\n",
    "    while abs(x - g * g) > dis:\n",
    "        time += 1\n",
    "        g += h\n",
    "    print(\"循环次数:\", time)\n",
    "    return g\n",
    "#example\n",
    "num = 2\n",
    "print(f\"{num}的开根结果为{calculate(num)}\")\n",
    "num = 10\n",
    "print(f\"{num}的开根结果为{calculate(num)}\")"
   ]
  },
  {
   "cell_type": "code",
   "execution_count": 29,
   "metadata": {
    "collapsed": false
   },
   "outputs": [
    {
     "name": "stdout",
     "output_type": "stream",
     "text": [
      "循环次数: 3\n",
      "2的开根结果为1.4142156862745097\n",
      "循环次数: 4\n",
      "10的开根结果为3.1622776604441363\n"
     ]
    }
   ],
   "source": [
    "#question5\n",
    "def calculate_2(x):\n",
    "    g = x / 2\n",
    "    dis = 0.0001\n",
    "    time = 0\n",
    "    while abs(g * g - x) > dis:\n",
    "        g = (g + x / g) / 2\n",
    "        time += 1\n",
    "    print(\"循环次数:\", time)\n",
    "    return g\n",
    "#example\n",
    "num = 2\n",
    "print(f\"{num}的开根结果为{calculate_2(num)}\")\n",
    "num = 10\n",
    "print(f\"{num}的开根结果为{calculate_2(num)}\")"
   ]
  },
  {
   "cell_type": "code",
   "execution_count": 30,
   "metadata": {
    "collapsed": false
   },
   "outputs": [
    {
     "name": "stdout",
     "output_type": "stream",
     "text": [
      "改为g = c\n",
      "循环次数: 3\n",
      "2的开根结果为1.4142156862745097\n",
      "循环次数: 5\n",
      "10的开根结果为3.162277665175675\n",
      "##########\n",
      "改为g = c / 2\n",
      "循环次数: 4\n",
      "2的开根结果为1.4142342859400734\n",
      "循环次数: 3\n",
      "10的开根结果为3.1622778816927752\n"
     ]
    }
   ],
   "source": [
    "#question6\n",
    "def calculate_1(x):\n",
    "    g = x\n",
    "    dis = 0.0001\n",
    "    time = 0\n",
    "    while abs(g * g - x) > dis:\n",
    "        g = (g + x / g) / 2\n",
    "        time += 1\n",
    "    print(\"循环次数:\", time)\n",
    "    return g\n",
    "def calculate_4(x):\n",
    "    g = x / 4\n",
    "    dis = 0.0001\n",
    "    time = 0\n",
    "    while abs(g * g - x) > dis:\n",
    "        g = (g + x / g) / 2\n",
    "        time += 1\n",
    "    print(\"循环次数:\", time)\n",
    "    return g\n",
    "#example\n",
    "print(\"改为g = c\")\n",
    "num = 2\n",
    "print(f\"{num}的开根结果为{calculate_1(num)}\")\n",
    "num = 10\n",
    "print(f\"{num}的开根结果为{calculate_1(num)}\")\n",
    "print(\"#\" * 10)\n",
    "print(\"改为g = c / 2\")\n",
    "num = 2\n",
    "print(f\"{num}的开根结果为{calculate_4(num)}\")\n",
    "num = 10\n",
    "print(f\"{num}的开根结果为{calculate_4(num)}\")"
   ]
  },
  {
   "cell_type": "markdown",
   "metadata": {},
   "source": [
    "#### 对比将g = c / 2改为g = c或者g = c / 4\n",
    "结论为改变前后结果没有变化，但是通过将 g = c / 2改为g = c或者g = c / 4，可以大幅减少计算循环次数，节约时间"
   ]
  },
  {
   "cell_type": "code",
   "execution_count": 32,
   "metadata": {
    "collapsed": false
   },
   "outputs": [
    {
     "name": "stdout",
     "output_type": "stream",
     "text": [
      "4的开三次根结果为1.587409732044072\n",
      "8的开三次根结果为2.0\n"
     ]
    }
   ],
   "source": [
    "#question7\n",
    "def calculate(x):\n",
    "    g = x / 4\n",
    "    dis = 0.0001\n",
    "    while abs(g * g * g - x) > dis:\n",
    "        g = (g + x / (g * g)) / 2\n",
    "    return g\n",
    "#example\n",
    "num = 4\n",
    "print(f\"{num}的开三次根结果为{calculate(num)}\")\n",
    "num = 8\n",
    "print(f\"{num}的开三次根结果为{calculate(num)}\")"
   ]
  },
  {
   "cell_type": "code",
   "execution_count": 20,
   "metadata": {
    "collapsed": false
   },
   "outputs": [
    {
     "name": "stdout",
     "output_type": "stream",
     "text": [
      "计算次数为1000000\n",
      "蒙特卡罗法估算的圆周率为: 3.141928\n",
      "蒲丰投针法估算的圆周率为: 3.141892\n",
      "无穷级数法估算的圆周率为: 3.1415916535897743\n",
      "莱布尼茨级数估算的圆周率为: 3.1415916535897743\n",
      "尼尔森级数估算的圆周率为: 3.1415916535897743\n"
     ]
    }
   ],
   "source": [
    "#question8\n",
    "import random\n",
    "import math\n",
    "cal_time = 1000000\n",
    "print(f\"计算次数为{cal_time}\")\n",
    "#####蒙特卡罗法#####\n",
    "x_min = -1\n",
    "x_max = 1\n",
    "y_min = 0\n",
    "y_max = 1\n",
    "count_in = 0\n",
    "point_num = cal_time\n",
    "for i in range(point_num):\n",
    "    x = random.uniform(x_min, x_max)\n",
    "    y = random.uniform(y_min, y_max)\n",
    "    if y <= math.sqrt(1 - x ** 2):\n",
    "        count_in += 1\n",
    "answer = count_in / point_num * 4\n",
    "print(f\"蒙特卡罗法估算的圆周率为: {answer}\")\n",
    "#####蒲丰投针法#####\n",
    "x_min, x_max = -1, 1\n",
    "y_min, y_max = -1, 1\n",
    "point_num = cal_time\n",
    "count_in = 0\n",
    "for i in range(point_num):\n",
    "    x = random.uniform(x_min, x_max)\n",
    "    y = random.uniform(y_min, y_max)\n",
    "    if (x ** 2 + y ** 2) <= 1:\n",
    "        count_in += 1\n",
    "area = 4 * count_in / point_num\n",
    "num_pi = area\n",
    "print(f\"蒲丰投针法估算的圆周率为: {num_pi}\")\n",
    "#####无穷级数法#####\n",
    "def calculate_pi(cal_num):\n",
    "    pi = 0\n",
    "    flag = 1\n",
    "    for i in range(cal_num):\n",
    "        term = 1 / (2 * i + 1) * flag\n",
    "        pi += term\n",
    "        flag *= -1\n",
    "    pi *= 4\n",
    "    return pi\n",
    "print(f\"无穷级数法估算的圆周率为: {calculate_pi(cal_time)}\")\n",
    "#####莱布尼茨级数#####\n",
    "def calculate_pi_leibniz(n):\n",
    "    pi = 0.0\n",
    "    for k in range(n):\n",
    "        term = ((-1) ** k) / (2 * k + 1)\n",
    "        pi += term\n",
    "    return 4 * pi\n",
    "print(f\"莱布尼茨级数估算的圆周率为: {calculate_pi_leibniz(cal_time)}\")\n",
    "#####尼尔森级数#####\n",
    "def calculate_pi(num_terms):\n",
    "    pi_estimate = 0\n",
    "    sign = 1\n",
    "\n",
    "    for i in range(num_terms):\n",
    "        term = 1 / (2 * i + 1)\n",
    "        pi_estimate += sign * term\n",
    "        sign *= -1\n",
    "\n",
    "    pi_estimate *= 4\n",
    "    return pi_estimate\n",
    "pi_approximation = calculate_pi(cal_time)\n",
    "print(f\"尼尔森级数估算的圆周率为: {pi_approximation}\")"
   ]
  },
  {
   "cell_type": "code",
   "execution_count": 13,
   "metadata": {
    "collapsed": false
   },
   "outputs": [
    {
     "name": "stdout",
     "output_type": "stream",
     "text": [
      "蒙特卡罗方法算出的结果是11.8077813\n",
      "实际结果是11.811358925098283\n"
     ]
    }
   ],
   "source": [
    "#question9\n",
    "import random\n",
    "import math\n",
    "x_min, x_max= 2, 3\n",
    "y_min, y_max= 0, 21\n",
    "point_num = 10000000\n",
    "points = [(random.uniform(x_min, x_max), random.uniform(y_min, y_max)) for i in range(point_num)]\n",
    "count_in = 0\n",
    "for point in points:\n",
    "    if point[1] <= point[0] * point[0] + 4 * point[0] * math.sin(point[0]):\n",
    "        count_in += 1\n",
    "cor_answer = 19 / 3 + 4 * (math.sin(3) - 3 * math.cos(3) +  + 2 * math.cos(2) - math.sin(2))\n",
    "print(\"蒙特卡罗方法算出的结果是\" + str(count_in / point_num * 21))\n",
    "print(f\"实际结果是{str(cor_answer)}\")"
   ]
  }
 ],
 "metadata": {
  "kernelspec": {
   "display_name": "Python 3",
   "language": "python",
   "name": "python3"
  },
  "language_info": {
   "codemirror_mode": {
    "name": "ipython",
    "version": 3
   },
   "file_extension": ".py",
   "mimetype": "text/x-python",
   "name": "python",
   "nbconvert_exporter": "python",
   "pygments_lexer": "ipython3",
   "version": "3.6.5"
  }
 },
 "nbformat": 4,
 "nbformat_minor": 0
}
